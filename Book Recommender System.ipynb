{
 "cells": [
  {
   "cell_type": "code",
   "execution_count": 57,
   "id": "d9cd972a-01d3-47b6-8592-572eee7161ba",
   "metadata": {},
   "outputs": [],
   "source": [
    "import pandas as pd\n",
    "import numpy as np\n",
    "from sklearn.feature_extraction.text import TfidfVectorizer\n",
    "from sklearn.model_selection import train_test_split\n",
    "from sklearn.metrics import mean_squared_error, mean_absolute_error\n",
    "from sklearn.ensemble import RandomForestRegressor\n",
    "from sklearn.linear_model import LinearRegression\n",
    "from sklearn.svm import SVR\n",
    "from sklearn.neighbors import KNeighborsRegressor\n",
    "from sklearn.decomposition import TruncatedSVD\n",
    "import matplotlib.pyplot as plt\n",
    "import warnings\n",
    "warnings.filterwarnings(\"ignore\", category=DeprecationWarning)"
   ]
  },
  {
   "cell_type": "code",
   "execution_count": 58,
   "id": "c44e41b2-1d77-4f64-952f-5ff63a3e992b",
   "metadata": {},
   "outputs": [],
   "source": [
    "data = pd.read_csv(\"books1.csv\")"
   ]
  },
  {
   "cell_type": "code",
   "execution_count": 59,
   "id": "817d41b8-41db-4beb-878a-31c65a8ce71d",
   "metadata": {},
   "outputs": [
    {
     "name": "stdout",
     "output_type": "stream",
     "text": [
      "   bookID                                              title  \\\n",
      "0       1  Harry Potter and the Half-Blood Prince (Harry ...   \n",
      "1       2  Harry Potter and the Order of the Phoenix (Har...   \n",
      "2       4  Harry Potter and the Chamber of Secrets (Harry...   \n",
      "3       5  Harry Potter and the Prisoner of Azkaban (Harr...   \n",
      "4       8  Harry Potter Boxed Set  Books 1-5 (Harry Potte...   \n",
      "\n",
      "                      authors  average_rating        isbn         isbn13  \\\n",
      "0  J.K. Rowling/Mary GrandPré            4.57  0439785960  9780439785969   \n",
      "1  J.K. Rowling/Mary GrandPré            4.49  0439358078  9780439358071   \n",
      "2                J.K. Rowling            4.42  0439554896  9780439554893   \n",
      "3  J.K. Rowling/Mary GrandPré            4.56  043965548X  9780439655484   \n",
      "4  J.K. Rowling/Mary GrandPré            4.78  0439682584  9780439682589   \n",
      "\n",
      "  language_code  num_pages  ratings_count  text_reviews_count  \\\n",
      "0           eng        652        2095690               27591   \n",
      "1           eng        870        2153167               29221   \n",
      "2           eng        352           6333                 244   \n",
      "3           eng        435        2339585               36325   \n",
      "4           eng       2690          41428                 164   \n",
      "\n",
      "  publication_date        publisher  \n",
      "0        9/16/2006  Scholastic Inc.  \n",
      "1         9/1/2004  Scholastic Inc.  \n",
      "2        11/1/2003       Scholastic  \n",
      "3         5/1/2004  Scholastic Inc.  \n",
      "4        9/13/2004       Scholastic  \n"
     ]
    }
   ],
   "source": [
    "print(data.head())"
   ]
  },
  {
   "cell_type": "code",
   "execution_count": 60,
   "id": "8089804e-251f-4454-8659-a78181b503f2",
   "metadata": {},
   "outputs": [],
   "source": [
    "data['title'] = data['title'].str.lower()\n",
    "data['authors'] = data['authors'].str.lower()"
   ]
  },
  {
   "cell_type": "code",
   "execution_count": 61,
   "id": "7dd77b1c-7e72-4368-97c6-c19428931dd7",
   "metadata": {},
   "outputs": [],
   "source": [
    "tfidf_vectorizer = TfidfVectorizer(stop_words='english')\n",
    "tfidf_matrix_title = tfidf_vectorizer.fit_transform(data['title'])\n",
    "tfidf_matrix_authors = tfidf_vectorizer.fit_transform(data['authors'])"
   ]
  },
  {
   "cell_type": "code",
   "execution_count": 62,
   "id": "e5b80d15-71ae-4dd3-a98a-f055970de536",
   "metadata": {},
   "outputs": [],
   "source": [
    "tfidf_matrix_combined = np.hstack([tfidf_matrix_title.toarray(), tfidf_matrix_authors.toarray()])"
   ]
  },
  {
   "cell_type": "code",
   "execution_count": 63,
   "id": "aa3dbb45-a45c-4b88-a4cd-3cfd8a48ce08",
   "metadata": {},
   "outputs": [],
   "source": [
    "X_train, X_test, y_train, y_test = train_test_split(tfidf_matrix_combined, data['average_rating'], test_size=0.2, random_state=42)"
   ]
  },
  {
   "cell_type": "code",
   "execution_count": 64,
   "id": "523d2101-33cc-4fe0-b71f-cee0d4f1b9ed",
   "metadata": {},
   "outputs": [],
   "source": [
    "svd = TruncatedSVD(n_components=100, random_state=42)\n",
    "X_train_svd = svd.fit_transform(X_train)\n",
    "X_test_svd = svd.transform(X_test)"
   ]
  },
  {
   "cell_type": "code",
   "execution_count": 65,
   "id": "0183b69a-1e58-4c7e-ad66-ed1230a2174a",
   "metadata": {},
   "outputs": [],
   "source": [
    "regressor_rf = RandomForestRegressor(n_estimators=100, random_state=42)\n",
    "regressor_rf.fit(X_train_svd, y_train)\n",
    "y_pred_rf = regressor_rf.predict(X_test_svd)\n",
    "mse_rf = mean_squared_error(y_test, y_pred_rf)\n",
    "mae_rf = mean_absolute_error(y_test, y_pred_rf)\n",
    "accuracy_rf = np.mean(np.abs(y_pred_rf - y_test) <= 0.5)"
   ]
  },
  {
   "cell_type": "code",
   "execution_count": 66,
   "id": "8fbab986-840d-4502-a20a-fd0423434874",
   "metadata": {},
   "outputs": [
    {
     "name": "stdout",
     "output_type": "stream",
     "text": [
      "Random Forest Regression:\n",
      "Mean Squared Error: 0.060096012288539856\n",
      "Mean Absolute Error: 0.18913629142956964\n",
      "Accuracy (within 0.5 stars): 0.9544025157232704\n"
     ]
    }
   ],
   "source": [
    "print(\"Random Forest Regression:\")\n",
    "print(\"Mean Squared Error:\", mse_rf)\n",
    "print(\"Mean Absolute Error:\", mae_rf)\n",
    "print(\"Accuracy (within 0.5 stars):\", accuracy_rf)"
   ]
  },
  {
   "cell_type": "code",
   "execution_count": 67,
   "id": "5785ef65-ec6a-4b86-8baf-ae8a13a5614d",
   "metadata": {},
   "outputs": [],
   "source": [
    "regressor_lr = LinearRegression()\n",
    "regressor_lr.fit(X_train_svd, y_train)\n",
    "y_pred_lr = regressor_lr.predict(X_test_svd)\n",
    "mse_lr = mean_squared_error(y_test, y_pred_lr)\n",
    "mae_lr = mean_absolute_error(y_test, y_pred_lr)\n",
    "accuracy_lr = np.mean(np.abs(y_pred_lr - y_test) <= 0.5)"
   ]
  },
  {
   "cell_type": "code",
   "execution_count": 68,
   "id": "ed639360-3494-465e-8615-7ef8f7c9dcfa",
   "metadata": {},
   "outputs": [
    {
     "name": "stdout",
     "output_type": "stream",
     "text": [
      "\n",
      "Linear Regression:\n",
      "Mean Squared Error: 0.06168209542953942\n",
      "Mean Absolute Error: 0.196853664257477\n",
      "Accuracy (within 0.5 stars): 0.9528301886792453\n"
     ]
    }
   ],
   "source": [
    "print(\"\\nLinear Regression:\")\n",
    "print(\"Mean Squared Error:\", mse_lr)\n",
    "print(\"Mean Absolute Error:\", mae_lr)\n",
    "print(\"Accuracy (within 0.5 stars):\", accuracy_lr)"
   ]
  },
  {
   "cell_type": "code",
   "execution_count": 69,
   "id": "9bc3af26-5a43-4a0c-88e2-f14d5ee002b9",
   "metadata": {},
   "outputs": [],
   "source": [
    "regressor_svr = SVR()\n",
    "regressor_svr.fit(X_train_svd, y_train)\n",
    "y_pred_svr = regressor_svr.predict(X_test_svd)\n",
    "mse_svr = mean_squared_error(y_test, y_pred_svr)\n",
    "mae_svr = mean_absolute_error(y_test, y_pred_svr)\n",
    "accuracy_svr = np.mean(np.abs(y_pred_svr - y_test) <= 0.5)"
   ]
  },
  {
   "cell_type": "code",
   "execution_count": 70,
   "id": "8ab47164-b86b-46df-a5db-83bf3e600330",
   "metadata": {},
   "outputs": [
    {
     "name": "stdout",
     "output_type": "stream",
     "text": [
      "\n",
      "Support Vector Regression:\n",
      "Mean Squared Error: 0.06023055033835936\n",
      "Mean Absolute Error: 0.19337818759096678\n",
      "Accuracy (within 0.5 stars): 0.9559748427672956\n"
     ]
    }
   ],
   "source": [
    "print(\"\\nSupport Vector Regression:\")\n",
    "print(\"Mean Squared Error:\", mse_svr)\n",
    "print(\"Mean Absolute Error:\", mae_svr)\n",
    "print(\"Accuracy (within 0.5 stars):\", accuracy_svr)"
   ]
  },
  {
   "cell_type": "code",
   "execution_count": 71,
   "id": "9ec25bb8-b812-4454-a8e7-aa7f3be71fa6",
   "metadata": {},
   "outputs": [],
   "source": [
    "regressor_knn = KNeighborsRegressor()\n",
    "regressor_knn.fit(X_train_svd, y_train)\n",
    "y_pred_knn = regressor_knn.predict(X_test_svd)\n",
    "mse_knn = mean_squared_error(y_test, y_pred_knn)\n",
    "mae_knn = mean_absolute_error(y_test, y_pred_knn)\n",
    "accuracy_knn = np.mean(np.abs(y_pred_knn - y_test) <= 0.5)"
   ]
  },
  {
   "cell_type": "code",
   "execution_count": 72,
   "id": "855b5e7c-aa0b-4b96-aabd-08acc43b79ab",
   "metadata": {},
   "outputs": [
    {
     "name": "stdout",
     "output_type": "stream",
     "text": [
      "\n",
      "K-Nearest Neighbors Regression:\n",
      "Mean Squared Error: 0.08828819496855346\n",
      "Mean Absolute Error: 0.22864465408805032\n",
      "Accuracy (within 0.5 stars): 0.9135220125786163\n"
     ]
    }
   ],
   "source": [
    "print(\"\\nK-Nearest Neighbors Regression:\")\n",
    "print(\"Mean Squared Error:\", mse_knn)\n",
    "print(\"Mean Absolute Error:\", mae_knn)\n",
    "print(\"Accuracy (within 0.5 stars):\", accuracy_knn)"
   ]
  },
  {
   "cell_type": "code",
   "execution_count": 73,
   "id": "56bd8a64-270b-4e2d-a364-48fa8ccdbac2",
   "metadata": {},
   "outputs": [],
   "source": [
    "results_df = pd.DataFrame({\n",
    "    \"Model\": [\"Random Forest\", \"Linear Regression\", \"SVR\", \"KNN\"],\n",
    "    \"Mean Squared Error\": [mse_rf, mse_lr, mse_svr, mse_knn],\n",
    "    \"Mean Absolute Error\": [mae_rf, mae_lr, mae_svr, mae_knn],\n",
    "    \"Accuracy\": [accuracy_rf, accuracy_lr, accuracy_svr, accuracy_knn]\n",
    "})"
   ]
  },
  {
   "cell_type": "code",
   "execution_count": 74,
   "id": "0517f898-7a3d-4396-8852-411fcdf0a255",
   "metadata": {},
   "outputs": [
    {
     "data": {
      "image/png": "[encoded data removed]",
      "text/plain": [
       "<Figure size 1200x600 with 3 Axes>"
      ]
     },
     "metadata": {},
     "output_type": "display_data"
    }
   ],
   "source": [
    "plt.figure(figsize=(12, 6))\n",
    "\n",
    "plt.subplot(1, 3, 1)\n",
    "plt.bar(results_df[\"Model\"], results_df[\"Mean Squared Error\"], color='skyblue')\n",
    "plt.title('Mean Squared Error')\n",
    "plt.ylabel('MSE')\n",
    "plt.ylim(0, max(results_df[\"Mean Squared Error\"]) * 1.1)\n",
    "\n",
    "plt.subplot(1, 3, 2)\n",
    "plt.bar(results_df[\"Model\"], results_df[\"Mean Absolute Error\"], color='salmon')\n",
    "plt.title('Mean Absolute Error')\n",
    "plt.ylabel('MAE')\n",
    "plt.ylim(0, max(results_df[\"Mean Absolute Error\"]) * 1.1)\n",
    "\n",
    "plt.subplot(1, 3, 3)\n",
    "plt.bar(results_df[\"Model\"], results_df[\"Accuracy\"], color='lightgreen')\n",
    "plt.title('Accuracy (within 0.5 stars)')\n",
    "plt.ylabel('Accuracy')\n",
    "plt.ylim(0, max(results_df[\"Accuracy\"]) * 1.1)\n",
    "\n",
    "plt.tight_layout()\n",
    "plt.show()"
   ]
  }
 ],
 "metadata": {
  "kernelspec": {
   "display_name": "Python 3 (ipykernel)",
   "language": "python",
   "name": "python3"
  },
  "language_info": {
   "codemirror_mode": {
    "name": "ipython",
    "version": 3
   },
   "file_extension": ".py",
   "mimetype": "text/x-python",
   "name": "python",
   "nbconvert_exporter": "python",
   "pygments_lexer": "ipython3",
   "version": "3.12.2"
  }
 },
 "nbformat": 4,
 "nbformat_minor": 5
}
